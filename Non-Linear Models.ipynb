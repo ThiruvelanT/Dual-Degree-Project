{
 "cells": [
  {
   "cell_type": "markdown",
   "id": "fa0539f3",
   "metadata": {},
   "source": [
    "# XG Boost"
   ]
  },
  {
   "cell_type": "code",
   "execution_count": 1,
   "id": "50e4f9ba",
   "metadata": {},
   "outputs": [],
   "source": [
    "import numpy as np\n",
    "import pandas as pd\n",
    "import matplotlib.pyplot as plt\n",
    "import seaborn as sns\n",
    "import warnings\n",
    "warnings.filterwarnings('ignore')\n",
    "from sklearn.model_selection import train_test_split"
   ]
  },
  {
   "cell_type": "code",
   "execution_count": 2,
   "id": "c2e3667d",
   "metadata": {},
   "outputs": [],
   "source": [
    "df = pd.read_csv('Train_data.csv')"
   ]
  },
  {
   "cell_type": "code",
   "execution_count": 3,
   "id": "879474c4",
   "metadata": {},
   "outputs": [],
   "source": [
    "from sklearn.compose import ColumnTransformer\n",
    "from sklearn.metrics import confusion_matrix, classification_report\n",
    "from sklearn.model_selection import cross_val_score, GridSearchCV, validation_curve\n",
    "from sklearn.preprocessing import StandardScaler, QuantileTransformer, MinMaxScaler, RobustScaler\n",
    "from sklearn.pipeline import Pipeline\n",
    "from sklearn.ensemble import RandomForestClassifier, AdaBoostClassifier"
   ]
  },
  {
   "cell_type": "code",
   "execution_count": 5,
   "id": "a15b74a3",
   "metadata": {},
   "outputs": [],
   "source": [
    "col_transform = [col for col in df.columns if col not in ['Target']]"
   ]
  },
  {
   "cell_type": "code",
   "execution_count": 6,
   "id": "c7adbe66",
   "metadata": {},
   "outputs": [],
   "source": [
    "X = df[col_transform]\n",
    "y = df['Target']"
   ]
  },
  {
   "cell_type": "code",
   "execution_count": 7,
   "id": "27d5c021",
   "metadata": {},
   "outputs": [],
   "source": [
    "X_train, X_test, y_train, y_test = train_test_split(X, y, test_size=0.33, random_state=42)"
   ]
  },
  {
   "cell_type": "code",
   "execution_count": 8,
   "id": "2a1c4ed0",
   "metadata": {},
   "outputs": [],
   "source": [
    "transformer = ColumnTransformer(transformers = [('scaling',RobustScaler(), col_transform)])"
   ]
  },
  {
   "cell_type": "code",
   "execution_count": 9,
   "id": "96c75f96",
   "metadata": {},
   "outputs": [],
   "source": [
    "from xgboost import XGBClassifier"
   ]
  },
  {
   "cell_type": "code",
   "execution_count": 10,
   "id": "2d1efeaa",
   "metadata": {},
   "outputs": [],
   "source": [
    "xgb = XGBClassifier(n_jobs=-1)"
   ]
  },
  {
   "cell_type": "code",
   "execution_count": 11,
   "id": "8967ff18",
   "metadata": {},
   "outputs": [],
   "source": [
    "pipeline_xgb = Pipeline(steps = [('transformer',transformer),('xgb',XGBClassifier())])"
   ]
  },
  {
   "cell_type": "code",
   "execution_count": 12,
   "id": "8558ac88",
   "metadata": {},
   "outputs": [],
   "source": [
    "cv_score_xgb = cross_val_score(pipeline_xgb,X_train,y_train,cv =5)"
   ]
  },
  {
   "cell_type": "code",
   "execution_count": 13,
   "id": "f8e0fcb1",
   "metadata": {},
   "outputs": [
    {
     "data": {
      "text/plain": [
       "0.6892811178525464"
      ]
     },
     "execution_count": 13,
     "metadata": {},
     "output_type": "execute_result"
    }
   ],
   "source": [
    "cv_score_xgb.mean()"
   ]
  },
  {
   "cell_type": "code",
   "execution_count": 14,
   "id": "73b551ac",
   "metadata": {},
   "outputs": [],
   "source": [
    "params_xgb = {'xgb__n_estimators':[100, 300, 500, 750, 800, 1200] ,\n",
    "              'xgb__max_depth': [5, 10, 15, 20, 25,30],'xgb__learning_rate':[0.01, 0.1, 1, 0.001, 0.5]}"
   ]
  },
  {
   "cell_type": "code",
   "execution_count": 15,
   "id": "3d9df1a3",
   "metadata": {},
   "outputs": [],
   "source": [
    "grid_xgb = GridSearchCV(pipeline_xgb,param_grid=params_xgb,cv=5,verbose=1,n_jobs=4)"
   ]
  },
  {
   "cell_type": "code",
   "execution_count": 16,
   "id": "aa99298d",
   "metadata": {},
   "outputs": [
    {
     "name": "stdout",
     "output_type": "stream",
     "text": [
      "Fitting 5 folds for each of 180 candidates, totalling 900 fits\n"
     ]
    },
    {
     "data": {
      "text/plain": [
       "GridSearchCV(cv=5,\n",
       "             estimator=Pipeline(steps=[('transformer',\n",
       "                                        ColumnTransformer(transformers=[('scaling',\n",
       "                                                                         RobustScaler(),\n",
       "                                                                         ['GP',\n",
       "                                                                          'MIN',\n",
       "                                                                          'PTS',\n",
       "                                                                          'FGM',\n",
       "                                                                          'FGA',\n",
       "                                                                          'FG%',\n",
       "                                                                          '3P '\n",
       "                                                                          'Made',\n",
       "                                                                          '3PA',\n",
       "                                                                          '3P%',\n",
       "                                                                          'FTM',\n",
       "                                                                          'FTA',\n",
       "                                                                          'FT%',\n",
       "                                                                          'OREB',\n",
       "                                                                          'DREB',\n",
       "                                                                          'REB',\n",
       "                                                                          'AST',\n",
       "                                                                          'STL',\n",
       "                                                                          'BLK',\n",
       "                                                                          'TOV'])])),\n",
       "                                       ('xgb',\n",
       "                                        XGBClassifier(base_score=None,\n",
       "                                                      booster=None,\n",
       "                                                      callbacks=None,\n",
       "                                                      colsample_bylevel=None,\n",
       "                                                      colsample_bynode=No...\n",
       "                                                      max_delta_step=None,\n",
       "                                                      max_depth=None,\n",
       "                                                      max_leaves=None,\n",
       "                                                      min_child_weight=None,\n",
       "                                                      missing=nan,\n",
       "                                                      monotone_constraints=None,\n",
       "                                                      n_estimators=100,\n",
       "                                                      n_jobs=None,\n",
       "                                                      num_parallel_tree=None,\n",
       "                                                      predictor=None,\n",
       "                                                      random_state=None, ...))]),\n",
       "             n_jobs=4,\n",
       "             param_grid={'xgb__learning_rate': [0.01, 0.1, 1, 0.001, 0.5],\n",
       "                         'xgb__max_depth': [5, 10, 15, 20, 25, 30],\n",
       "                         'xgb__n_estimators': [100, 300, 500, 750, 800, 1200]},\n",
       "             verbose=1)"
      ]
     },
     "execution_count": 16,
     "metadata": {},
     "output_type": "execute_result"
    }
   ],
   "source": [
    "grid_xgb.fit(X_train,y_train)"
   ]
  },
  {
   "cell_type": "code",
   "execution_count": 17,
   "id": "d5e65b29",
   "metadata": {},
   "outputs": [
    {
     "data": {
      "text/plain": [
       "{'xgb__learning_rate': 0.1, 'xgb__max_depth': 5, 'xgb__n_estimators': 1200}"
      ]
     },
     "execution_count": 17,
     "metadata": {},
     "output_type": "execute_result"
    }
   ],
   "source": [
    "grid_xgb.best_params_"
   ]
  },
  {
   "cell_type": "code",
   "execution_count": 27,
   "id": "edf9b748",
   "metadata": {},
   "outputs": [],
   "source": [
    "pipeline_xgb_best = Pipeline(steps = [('transformer',transformer),('xgb',XGBClassifier(n_estimators = 1200,max_depth = 5, learning_rate = 0.1))])"
   ]
  },
  {
   "cell_type": "code",
   "execution_count": 28,
   "id": "2a6a26cc",
   "metadata": {},
   "outputs": [],
   "source": [
    "cv_score_xgb_best = cross_val_score(pipeline_xgb_best,X,y,cv =5)"
   ]
  },
  {
   "cell_type": "code",
   "execution_count": 29,
   "id": "3662cdfb",
   "metadata": {},
   "outputs": [
    {
     "data": {
      "text/plain": [
       "0.7193582887700535"
      ]
     },
     "execution_count": 29,
     "metadata": {},
     "output_type": "execute_result"
    }
   ],
   "source": [
    "cv_score_xgb_best.mean()"
   ]
  },
  {
   "cell_type": "code",
   "execution_count": 30,
   "id": "f27d5dec",
   "metadata": {},
   "outputs": [],
   "source": [
    "X_train = X\n",
    "y_train = y"
   ]
  },
  {
   "cell_type": "code",
   "execution_count": 31,
   "id": "bf970704",
   "metadata": {
    "scrolled": true
   },
   "outputs": [
    {
     "data": {
      "text/plain": [
       "Pipeline(steps=[('transformer',\n",
       "                 ColumnTransformer(transformers=[('scaling', RobustScaler(),\n",
       "                                                  ['GP', 'MIN', 'PTS', 'FGM',\n",
       "                                                   'FGA', 'FG%', '3P Made',\n",
       "                                                   '3PA', '3P%', 'FTM', 'FTA',\n",
       "                                                   'FT%', 'OREB', 'DREB', 'REB',\n",
       "                                                   'AST', 'STL', 'BLK',\n",
       "                                                   'TOV'])])),\n",
       "                ('xgb',\n",
       "                 XGBClassifier(base_score=None, booster=None, callbacks=None,\n",
       "                               colsample_bylevel=None, colsample_bynode=None,\n",
       "                               colsample_bytree=None,\n",
       "                               early...\n",
       "                               feature_types=None, gamma=None, gpu_id=None,\n",
       "                               grow_policy=None, importance_type=None,\n",
       "                               interaction_constraints=None, learning_rate=0.1,\n",
       "                               max_bin=None, max_cat_threshold=None,\n",
       "                               max_cat_to_onehot=None, max_delta_step=None,\n",
       "                               max_depth=5, max_leaves=None,\n",
       "                               min_child_weight=None, missing=nan,\n",
       "                               monotone_constraints=None, n_estimators=1200,\n",
       "                               n_jobs=None, num_parallel_tree=None,\n",
       "                               predictor=None, random_state=None, ...))])"
      ]
     },
     "execution_count": 31,
     "metadata": {},
     "output_type": "execute_result"
    }
   ],
   "source": [
    "pipeline_xgb_best.fit(X_train,y_train)"
   ]
  },
  {
   "cell_type": "code",
   "execution_count": 32,
   "id": "b79c99b5",
   "metadata": {},
   "outputs": [],
   "source": [
    "predictions_xgb = pipeline_xgb_best.predict(X_test)"
   ]
  },
  {
   "cell_type": "code",
   "execution_count": 33,
   "id": "06c709de",
   "metadata": {},
   "outputs": [],
   "source": [
    "predictions = pd.DataFrame(predictions_xgb, columns = ['prediction'])"
   ]
  },
  {
   "cell_type": "code",
   "execution_count": 34,
   "id": "033751d9",
   "metadata": {},
   "outputs": [],
   "source": [
    "from sklearn.metrics import classification_report"
   ]
  },
  {
   "cell_type": "code",
   "execution_count": 35,
   "id": "91e5dba4",
   "metadata": {},
   "outputs": [
    {
     "name": "stdout",
     "output_type": "stream",
     "text": [
      "              precision    recall  f1-score   support\n",
      "\n",
      "           0       0.99      0.99      0.99       180\n",
      "           1       0.99      0.99      0.99       184\n",
      "\n",
      "    accuracy                           0.99       364\n",
      "   macro avg       0.99      0.99      0.99       364\n",
      "weighted avg       0.99      0.99      0.99       364\n",
      "\n"
     ]
    }
   ],
   "source": [
    "print(classification_report(y_test, predictions_xgb))"
   ]
  },
  {
   "cell_type": "code",
   "execution_count": null,
   "id": "c8e806e5",
   "metadata": {},
   "outputs": [],
   "source": []
  },
  {
   "cell_type": "markdown",
   "id": "79cd95f3",
   "metadata": {},
   "source": [
    "# Random Forest"
   ]
  },
  {
   "cell_type": "code",
   "execution_count": 36,
   "id": "5ffd1fdb",
   "metadata": {},
   "outputs": [],
   "source": [
    "import numpy as np\n",
    "import pandas as pd\n",
    "import matplotlib.pyplot as plt\n",
    "import seaborn as sns\n",
    "import warnings\n",
    "warnings.filterwarnings('ignore')\n",
    "from sklearn.model_selection import train_test_split"
   ]
  },
  {
   "cell_type": "code",
   "execution_count": 37,
   "id": "a99c5d4e",
   "metadata": {},
   "outputs": [],
   "source": [
    "df = pd.read_csv('Train_data.csv')"
   ]
  },
  {
   "cell_type": "code",
   "execution_count": 38,
   "id": "f6fb3ec4",
   "metadata": {},
   "outputs": [],
   "source": [
    "from sklearn.compose import ColumnTransformer\n",
    "from sklearn.metrics import confusion_matrix, classification_report\n",
    "from sklearn.model_selection import cross_val_score, GridSearchCV, validation_curve\n",
    "from sklearn.preprocessing import StandardScaler, QuantileTransformer, MinMaxScaler, RobustScaler\n",
    "from sklearn.pipeline import Pipeline\n",
    "from sklearn.ensemble import RandomForestClassifier, AdaBoostClassifier"
   ]
  },
  {
   "cell_type": "code",
   "execution_count": 39,
   "id": "913f096b",
   "metadata": {},
   "outputs": [],
   "source": [
    "col_transform = [col for col in df.columns if col not in ['Target']]"
   ]
  },
  {
   "cell_type": "code",
   "execution_count": 40,
   "id": "b2861bff",
   "metadata": {},
   "outputs": [],
   "source": [
    "X = df[col_transform]\n",
    "y = df['Target']"
   ]
  },
  {
   "cell_type": "code",
   "execution_count": 41,
   "id": "c33d4e2e",
   "metadata": {},
   "outputs": [],
   "source": [
    "X_train, X_test, y_train, y_test = train_test_split(X, y, test_size=0.33, random_state=42)"
   ]
  },
  {
   "cell_type": "code",
   "execution_count": 42,
   "id": "73c469bf",
   "metadata": {},
   "outputs": [],
   "source": [
    "transformer = ColumnTransformer(transformers = [('scaling',RobustScaler(), col_transform)])"
   ]
  },
  {
   "cell_type": "code",
   "execution_count": 43,
   "id": "f68ffa0e",
   "metadata": {},
   "outputs": [],
   "source": [
    "rf = RandomForestClassifier(n_jobs = -1)"
   ]
  },
  {
   "cell_type": "code",
   "execution_count": 46,
   "id": "0ad96a4a",
   "metadata": {},
   "outputs": [],
   "source": [
    "pipeline_rf = Pipeline(steps = [('transformer',transformer),('rf',RandomForestClassifier())])"
   ]
  },
  {
   "cell_type": "code",
   "execution_count": 47,
   "id": "2a0eae98",
   "metadata": {},
   "outputs": [],
   "source": [
    "cv_score_rf = cross_val_score(pipeline_rf,X_train,y_train,cv =5)"
   ]
  },
  {
   "cell_type": "code",
   "execution_count": 48,
   "id": "45fd1835",
   "metadata": {},
   "outputs": [
    {
     "data": {
      "text/plain": [
       "0.7015444015444017"
      ]
     },
     "execution_count": 48,
     "metadata": {},
     "output_type": "execute_result"
    }
   ],
   "source": [
    "cv_score_rf.mean()"
   ]
  },
  {
   "cell_type": "code",
   "execution_count": 53,
   "id": "b7f7959f",
   "metadata": {},
   "outputs": [],
   "source": [
    "params_rf = {'rf__n_estimators':[100, 300, 500, 750, 800, 1200] ,\n",
    "              'rf__max_depth': [5, 10, 15, 20, 25,30]}"
   ]
  },
  {
   "cell_type": "code",
   "execution_count": 54,
   "id": "94e50bc1",
   "metadata": {},
   "outputs": [],
   "source": [
    "grid_rf = GridSearchCV(pipeline_rf,param_grid=params_rf,cv=5,verbose=3,n_jobs=-1)"
   ]
  },
  {
   "cell_type": "code",
   "execution_count": 55,
   "id": "a2264abe",
   "metadata": {},
   "outputs": [
    {
     "name": "stdout",
     "output_type": "stream",
     "text": [
      "Fitting 5 folds for each of 36 candidates, totalling 180 fits\n"
     ]
    },
    {
     "data": {
      "text/plain": [
       "GridSearchCV(cv=5,\n",
       "             estimator=Pipeline(steps=[('transformer',\n",
       "                                        ColumnTransformer(transformers=[('scaling',\n",
       "                                                                         RobustScaler(),\n",
       "                                                                         ['GP',\n",
       "                                                                          'MIN',\n",
       "                                                                          'PTS',\n",
       "                                                                          'FGM',\n",
       "                                                                          'FGA',\n",
       "                                                                          'FG%',\n",
       "                                                                          '3P '\n",
       "                                                                          'Made',\n",
       "                                                                          '3PA',\n",
       "                                                                          '3P%',\n",
       "                                                                          'FTM',\n",
       "                                                                          'FTA',\n",
       "                                                                          'FT%',\n",
       "                                                                          'OREB',\n",
       "                                                                          'DREB',\n",
       "                                                                          'REB',\n",
       "                                                                          'AST',\n",
       "                                                                          'STL',\n",
       "                                                                          'BLK',\n",
       "                                                                          'TOV'])])),\n",
       "                                       ('rf', RandomForestClassifier())]),\n",
       "             n_jobs=-1,\n",
       "             param_grid={'rf__max_depth': [5, 10, 15, 20, 25, 30],\n",
       "                         'rf__n_estimators': [100, 300, 500, 750, 800, 1200]},\n",
       "             verbose=3)"
      ]
     },
     "execution_count": 55,
     "metadata": {},
     "output_type": "execute_result"
    }
   ],
   "source": [
    "grid_rf.fit(X_train,y_train)"
   ]
  },
  {
   "cell_type": "code",
   "execution_count": 59,
   "id": "e832ce8b",
   "metadata": {},
   "outputs": [
    {
     "data": {
      "text/plain": [
       "{'rf__max_depth': 20, 'rf__n_estimators': 300}"
      ]
     },
     "execution_count": 59,
     "metadata": {},
     "output_type": "execute_result"
    }
   ],
   "source": [
    "grid_rf.best_params_"
   ]
  },
  {
   "cell_type": "code",
   "execution_count": 60,
   "id": "7c391696",
   "metadata": {},
   "outputs": [],
   "source": [
    "pipeline_rf_best = Pipeline(steps = [('transformer',transformer),('rf',RandomForestClassifier(n_estimators = 300,max_depth = 20))])"
   ]
  },
  {
   "cell_type": "code",
   "execution_count": 61,
   "id": "60389a2e",
   "metadata": {},
   "outputs": [],
   "source": [
    "cv_score_rf_best = cross_val_score(pipeline_rf_best,X,y,cv =5)"
   ]
  },
  {
   "cell_type": "code",
   "execution_count": 62,
   "id": "5d3ce1e5",
   "metadata": {},
   "outputs": [
    {
     "data": {
      "text/plain": [
       "0.7374989716166188"
      ]
     },
     "execution_count": 62,
     "metadata": {},
     "output_type": "execute_result"
    }
   ],
   "source": [
    "cv_score_rf_best.mean()"
   ]
  },
  {
   "cell_type": "code",
   "execution_count": 63,
   "id": "fda38c27",
   "metadata": {},
   "outputs": [
    {
     "data": {
      "text/plain": [
       "Pipeline(steps=[('transformer',\n",
       "                 ColumnTransformer(transformers=[('scaling', RobustScaler(),\n",
       "                                                  ['GP', 'MIN', 'PTS', 'FGM',\n",
       "                                                   'FGA', 'FG%', '3P Made',\n",
       "                                                   '3PA', '3P%', 'FTM', 'FTA',\n",
       "                                                   'FT%', 'OREB', 'DREB', 'REB',\n",
       "                                                   'AST', 'STL', 'BLK',\n",
       "                                                   'TOV'])])),\n",
       "                ('rf', RandomForestClassifier(max_depth=20, n_estimators=300))])"
      ]
     },
     "execution_count": 63,
     "metadata": {},
     "output_type": "execute_result"
    }
   ],
   "source": [
    "pipeline_rf_best.fit(X_train,y_train)"
   ]
  },
  {
   "cell_type": "code",
   "execution_count": 64,
   "id": "5638f22f",
   "metadata": {},
   "outputs": [],
   "source": [
    "predictions_rf = pipeline_rf_best.predict(X_test)"
   ]
  },
  {
   "cell_type": "code",
   "execution_count": 65,
   "id": "37be06dc",
   "metadata": {},
   "outputs": [],
   "source": [
    "predictions = pd.DataFrame(predictions_rf, columns = ['prediction'])"
   ]
  },
  {
   "cell_type": "code",
   "execution_count": 66,
   "id": "4b46668c",
   "metadata": {},
   "outputs": [
    {
     "name": "stdout",
     "output_type": "stream",
     "text": [
      "              precision    recall  f1-score   support\n",
      "\n",
      "           0       0.75      0.75      0.75       180\n",
      "           1       0.75      0.75      0.75       184\n",
      "\n",
      "    accuracy                           0.75       364\n",
      "   macro avg       0.75      0.75      0.75       364\n",
      "weighted avg       0.75      0.75      0.75       364\n",
      "\n"
     ]
    }
   ],
   "source": [
    "print(classification_report(y_test, predictions_rf))"
   ]
  },
  {
   "cell_type": "code",
   "execution_count": null,
   "id": "d30a73bf",
   "metadata": {},
   "outputs": [],
   "source": []
  },
  {
   "cell_type": "markdown",
   "id": "87826de5",
   "metadata": {},
   "source": [
    "# Decision Tree"
   ]
  },
  {
   "cell_type": "code",
   "execution_count": 67,
   "id": "50fd11b2",
   "metadata": {},
   "outputs": [],
   "source": [
    "from sklearn.tree import DecisionTreeClassifier"
   ]
  },
  {
   "cell_type": "code",
   "execution_count": 68,
   "id": "ba9af659",
   "metadata": {},
   "outputs": [],
   "source": [
    "df = pd.read_csv('Train_data.csv')"
   ]
  },
  {
   "cell_type": "code",
   "execution_count": 69,
   "id": "81314e77",
   "metadata": {},
   "outputs": [],
   "source": [
    "col_transform = [col for col in df.columns if col not in ['Target']]"
   ]
  },
  {
   "cell_type": "code",
   "execution_count": 70,
   "id": "6d6fe5a2",
   "metadata": {},
   "outputs": [],
   "source": [
    "X = df[col_transform]\n",
    "y = df['Target']"
   ]
  },
  {
   "cell_type": "code",
   "execution_count": 71,
   "id": "d99af89d",
   "metadata": {},
   "outputs": [],
   "source": [
    "X_train, X_test, y_train, y_test = train_test_split(X, y, test_size=0.33, random_state=42)"
   ]
  },
  {
   "cell_type": "code",
   "execution_count": 72,
   "id": "e0744db7",
   "metadata": {},
   "outputs": [],
   "source": [
    "transformer = ColumnTransformer(transformers = [('scaling',RobustScaler(), col_transform)])"
   ]
  },
  {
   "cell_type": "code",
   "execution_count": 74,
   "id": "e8ea1c1c",
   "metadata": {},
   "outputs": [],
   "source": [
    "dt = DecisionTreeClassifier()"
   ]
  },
  {
   "cell_type": "code",
   "execution_count": 75,
   "id": "db4064b7",
   "metadata": {},
   "outputs": [],
   "source": [
    "pipeline_dt = Pipeline(steps = [('transformer',transformer),('dt',DecisionTreeClassifier())])"
   ]
  },
  {
   "cell_type": "code",
   "execution_count": 76,
   "id": "b38bb309",
   "metadata": {},
   "outputs": [],
   "source": [
    "cv_score_dt = cross_val_score(pipeline_dt,X_train,y_train,cv =5)"
   ]
  },
  {
   "cell_type": "code",
   "execution_count": 77,
   "id": "a63653e3",
   "metadata": {},
   "outputs": [
    {
     "data": {
      "text/plain": [
       "0.6119231476374333"
      ]
     },
     "execution_count": 77,
     "metadata": {},
     "output_type": "execute_result"
    }
   ],
   "source": [
    "cv_score_dt.mean()"
   ]
  },
  {
   "cell_type": "code",
   "execution_count": 83,
   "id": "6565b1d3",
   "metadata": {},
   "outputs": [],
   "source": [
    "params_dt = {'dt__criterion':['gini','entropy'] ,'dt__max_depth': [5, 10, 15, 20, 25,30]}"
   ]
  },
  {
   "cell_type": "code",
   "execution_count": 84,
   "id": "0b406be5",
   "metadata": {},
   "outputs": [],
   "source": [
    "grid_dt = GridSearchCV(pipeline_dt,param_grid=params_dt,cv=5,verbose=3,n_jobs=-1)"
   ]
  },
  {
   "cell_type": "code",
   "execution_count": 85,
   "id": "0cb703a9",
   "metadata": {},
   "outputs": [
    {
     "name": "stdout",
     "output_type": "stream",
     "text": [
      "Fitting 5 folds for each of 12 candidates, totalling 60 fits\n"
     ]
    },
    {
     "data": {
      "text/plain": [
       "GridSearchCV(cv=5,\n",
       "             estimator=Pipeline(steps=[('transformer',\n",
       "                                        ColumnTransformer(transformers=[('scaling',\n",
       "                                                                         RobustScaler(),\n",
       "                                                                         ['GP',\n",
       "                                                                          'MIN',\n",
       "                                                                          'PTS',\n",
       "                                                                          'FGM',\n",
       "                                                                          'FGA',\n",
       "                                                                          'FG%',\n",
       "                                                                          '3P '\n",
       "                                                                          'Made',\n",
       "                                                                          '3PA',\n",
       "                                                                          '3P%',\n",
       "                                                                          'FTM',\n",
       "                                                                          'FTA',\n",
       "                                                                          'FT%',\n",
       "                                                                          'OREB',\n",
       "                                                                          'DREB',\n",
       "                                                                          'REB',\n",
       "                                                                          'AST',\n",
       "                                                                          'STL',\n",
       "                                                                          'BLK',\n",
       "                                                                          'TOV'])])),\n",
       "                                       ('dt', DecisionTreeClassifier())]),\n",
       "             n_jobs=-1,\n",
       "             param_grid={'dt__criterion': ['gini', 'entropy'],\n",
       "                         'dt__max_depth': [5, 10, 15, 20, 25, 30]},\n",
       "             verbose=3)"
      ]
     },
     "execution_count": 85,
     "metadata": {},
     "output_type": "execute_result"
    }
   ],
   "source": [
    "grid_dt.fit(X_train,y_train)"
   ]
  },
  {
   "cell_type": "code",
   "execution_count": 90,
   "id": "3e84026a",
   "metadata": {},
   "outputs": [
    {
     "data": {
      "text/plain": [
       "{'dt__criterion': 'entropy', 'dt__max_depth': 25}"
      ]
     },
     "execution_count": 90,
     "metadata": {},
     "output_type": "execute_result"
    }
   ],
   "source": [
    "grid_dt.best_params_"
   ]
  },
  {
   "cell_type": "code",
   "execution_count": 94,
   "id": "6bd705ca",
   "metadata": {},
   "outputs": [],
   "source": [
    "pipeline_dt_best = Pipeline(steps = [('transformer',transformer),('dt',DecisionTreeClassifier(criterion = 'entropy', max_depth= 25))])"
   ]
  },
  {
   "cell_type": "code",
   "execution_count": 95,
   "id": "d26b64de",
   "metadata": {},
   "outputs": [],
   "source": [
    "cv_score_dt_best = cross_val_score(pipeline_dt_best,X,y,cv =5)"
   ]
  },
  {
   "cell_type": "code",
   "execution_count": 96,
   "id": "e5fb34b0",
   "metadata": {},
   "outputs": [
    {
     "data": {
      "text/plain": [
       "0.6594241053064582"
      ]
     },
     "execution_count": 96,
     "metadata": {},
     "output_type": "execute_result"
    }
   ],
   "source": [
    "cv_score_dt_best.mean()"
   ]
  },
  {
   "cell_type": "code",
   "execution_count": 97,
   "id": "4e5c072d",
   "metadata": {},
   "outputs": [
    {
     "data": {
      "text/plain": [
       "Pipeline(steps=[('transformer',\n",
       "                 ColumnTransformer(transformers=[('scaling', RobustScaler(),\n",
       "                                                  ['GP', 'MIN', 'PTS', 'FGM',\n",
       "                                                   'FGA', 'FG%', '3P Made',\n",
       "                                                   '3PA', '3P%', 'FTM', 'FTA',\n",
       "                                                   'FT%', 'OREB', 'DREB', 'REB',\n",
       "                                                   'AST', 'STL', 'BLK',\n",
       "                                                   'TOV'])])),\n",
       "                ('dt',\n",
       "                 DecisionTreeClassifier(criterion='entropy', max_depth=25))])"
      ]
     },
     "execution_count": 97,
     "metadata": {},
     "output_type": "execute_result"
    }
   ],
   "source": [
    "pipeline_dt_best.fit(X_train,y_train)"
   ]
  },
  {
   "cell_type": "code",
   "execution_count": 98,
   "id": "f0432027",
   "metadata": {},
   "outputs": [],
   "source": [
    "predictions_dt = pipeline_dt_best.predict(X_test)"
   ]
  },
  {
   "cell_type": "code",
   "execution_count": 99,
   "id": "4bfdb6cd",
   "metadata": {},
   "outputs": [],
   "source": [
    "predictions = pd.DataFrame(predictions_dt, columns = ['prediction'])"
   ]
  },
  {
   "cell_type": "code",
   "execution_count": 100,
   "id": "342181dc",
   "metadata": {},
   "outputs": [
    {
     "name": "stdout",
     "output_type": "stream",
     "text": [
      "              precision    recall  f1-score   support\n",
      "\n",
      "           0       0.64      0.69      0.66       180\n",
      "           1       0.67      0.61      0.64       184\n",
      "\n",
      "    accuracy                           0.65       364\n",
      "   macro avg       0.66      0.65      0.65       364\n",
      "weighted avg       0.66      0.65      0.65       364\n",
      "\n"
     ]
    }
   ],
   "source": [
    "print(classification_report(y_test, predictions_dt))"
   ]
  },
  {
   "cell_type": "code",
   "execution_count": null,
   "id": "d5deef64",
   "metadata": {},
   "outputs": [],
   "source": []
  },
  {
   "cell_type": "markdown",
   "id": "91b0fe76",
   "metadata": {},
   "source": [
    "# Support Vector Classifier"
   ]
  },
  {
   "cell_type": "code",
   "execution_count": 101,
   "id": "d0a18181",
   "metadata": {},
   "outputs": [],
   "source": [
    "from sklearn.svm import SVC"
   ]
  },
  {
   "cell_type": "code",
   "execution_count": 102,
   "id": "2b663a7f",
   "metadata": {},
   "outputs": [],
   "source": [
    "df = pd.read_csv('Train_data.csv')"
   ]
  },
  {
   "cell_type": "code",
   "execution_count": 103,
   "id": "e8771f14",
   "metadata": {},
   "outputs": [],
   "source": [
    "col_transform = [col for col in df.columns if col not in ['Target']]"
   ]
  },
  {
   "cell_type": "code",
   "execution_count": 104,
   "id": "26e44c8b",
   "metadata": {},
   "outputs": [],
   "source": [
    "X = df[col_transform]\n",
    "y = df['Target']"
   ]
  },
  {
   "cell_type": "code",
   "execution_count": 105,
   "id": "1a168c49",
   "metadata": {},
   "outputs": [],
   "source": [
    "X_train, X_test, y_train, y_test = train_test_split(X, y, test_size=0.33, random_state=42)"
   ]
  },
  {
   "cell_type": "code",
   "execution_count": 106,
   "id": "794dfd3b",
   "metadata": {},
   "outputs": [],
   "source": [
    "transformer = ColumnTransformer(transformers = [('scaling',RobustScaler(), col_transform)])"
   ]
  },
  {
   "cell_type": "code",
   "execution_count": 107,
   "id": "58f0115f",
   "metadata": {},
   "outputs": [],
   "source": [
    "svc = SVC()"
   ]
  },
  {
   "cell_type": "code",
   "execution_count": 108,
   "id": "7ff34b86",
   "metadata": {},
   "outputs": [],
   "source": [
    "pipeline_svc = Pipeline(steps = [('transformer',transformer),('svc',SVC())])"
   ]
  },
  {
   "cell_type": "code",
   "execution_count": 109,
   "id": "c27402a4",
   "metadata": {},
   "outputs": [],
   "source": [
    "cv_score_svc = cross_val_score(pipeline_svc,X_train,y_train,cv =5)"
   ]
  },
  {
   "cell_type": "code",
   "execution_count": 110,
   "id": "ec356cdf",
   "metadata": {},
   "outputs": [
    {
     "data": {
      "text/plain": [
       "0.6879757308328737"
      ]
     },
     "execution_count": 110,
     "metadata": {},
     "output_type": "execute_result"
    }
   ],
   "source": [
    "cv_score_svc.mean()"
   ]
  },
  {
   "cell_type": "code",
   "execution_count": 116,
   "id": "dda8c9f2",
   "metadata": {},
   "outputs": [],
   "source": [
    "params_svc = {'svc__C':[0.1, 0.5, 1, 1.5] ,'svc__kernel' : ['linear', 'poly', 'rbf']}"
   ]
  },
  {
   "cell_type": "code",
   "execution_count": 117,
   "id": "b3e18ae9",
   "metadata": {},
   "outputs": [],
   "source": [
    "grid_svc = GridSearchCV(pipeline_svc,param_grid=params_svc,cv=5,verbose=3,n_jobs=-1)"
   ]
  },
  {
   "cell_type": "code",
   "execution_count": 118,
   "id": "10186f53",
   "metadata": {},
   "outputs": [
    {
     "name": "stdout",
     "output_type": "stream",
     "text": [
      "Fitting 5 folds for each of 12 candidates, totalling 60 fits\n"
     ]
    },
    {
     "data": {
      "text/plain": [
       "GridSearchCV(cv=5,\n",
       "             estimator=Pipeline(steps=[('transformer',\n",
       "                                        ColumnTransformer(transformers=[('scaling',\n",
       "                                                                         RobustScaler(),\n",
       "                                                                         ['GP',\n",
       "                                                                          'MIN',\n",
       "                                                                          'PTS',\n",
       "                                                                          'FGM',\n",
       "                                                                          'FGA',\n",
       "                                                                          'FG%',\n",
       "                                                                          '3P '\n",
       "                                                                          'Made',\n",
       "                                                                          '3PA',\n",
       "                                                                          '3P%',\n",
       "                                                                          'FTM',\n",
       "                                                                          'FTA',\n",
       "                                                                          'FT%',\n",
       "                                                                          'OREB',\n",
       "                                                                          'DREB',\n",
       "                                                                          'REB',\n",
       "                                                                          'AST',\n",
       "                                                                          'STL',\n",
       "                                                                          'BLK',\n",
       "                                                                          'TOV'])])),\n",
       "                                       ('svc', SVC())]),\n",
       "             n_jobs=-1,\n",
       "             param_grid={'svc__C': [0.1, 0.5, 1, 1.5],\n",
       "                         'svc__kernel': ['linear', 'poly', 'rbf']},\n",
       "             verbose=3)"
      ]
     },
     "execution_count": 118,
     "metadata": {},
     "output_type": "execute_result"
    }
   ],
   "source": [
    "grid_svc.fit(X_train,y_train)"
   ]
  },
  {
   "cell_type": "code",
   "execution_count": 119,
   "id": "e915dc00",
   "metadata": {},
   "outputs": [
    {
     "data": {
      "text/plain": [
       "{'svc__C': 1.5, 'svc__kernel': 'linear'}"
      ]
     },
     "execution_count": 119,
     "metadata": {},
     "output_type": "execute_result"
    }
   ],
   "source": [
    "grid_svc.best_params_"
   ]
  },
  {
   "cell_type": "code",
   "execution_count": 120,
   "id": "3826f2eb",
   "metadata": {},
   "outputs": [],
   "source": [
    "pipeline_svc_best = Pipeline(steps = [('transformer',transformer),('svc',SVC(C = 1.5, kernel= 'linear'))])"
   ]
  },
  {
   "cell_type": "code",
   "execution_count": 121,
   "id": "9a3f938c",
   "metadata": {},
   "outputs": [],
   "source": [
    "cv_score_svc_best = cross_val_score(pipeline_svc_best,X,y,cv =5)"
   ]
  },
  {
   "cell_type": "code",
   "execution_count": 122,
   "id": "36f8ffa1",
   "metadata": {},
   "outputs": [
    {
     "data": {
      "text/plain": [
       "0.691201151789387"
      ]
     },
     "execution_count": 122,
     "metadata": {},
     "output_type": "execute_result"
    }
   ],
   "source": [
    "cv_score_svc_best.mean()"
   ]
  },
  {
   "cell_type": "code",
   "execution_count": 123,
   "id": "653bf744",
   "metadata": {},
   "outputs": [
    {
     "data": {
      "text/plain": [
       "Pipeline(steps=[('transformer',\n",
       "                 ColumnTransformer(transformers=[('scaling', RobustScaler(),\n",
       "                                                  ['GP', 'MIN', 'PTS', 'FGM',\n",
       "                                                   'FGA', 'FG%', '3P Made',\n",
       "                                                   '3PA', '3P%', 'FTM', 'FTA',\n",
       "                                                   'FT%', 'OREB', 'DREB', 'REB',\n",
       "                                                   'AST', 'STL', 'BLK',\n",
       "                                                   'TOV'])])),\n",
       "                ('svc', SVC(C=1.5, kernel='linear'))])"
      ]
     },
     "execution_count": 123,
     "metadata": {},
     "output_type": "execute_result"
    }
   ],
   "source": [
    "pipeline_svc_best.fit(X_train,y_train)"
   ]
  },
  {
   "cell_type": "code",
   "execution_count": 124,
   "id": "931d4aa6",
   "metadata": {},
   "outputs": [],
   "source": [
    "predictions_svc = pipeline_svc_best.predict(X_test)"
   ]
  },
  {
   "cell_type": "code",
   "execution_count": 125,
   "id": "f2ad30bb",
   "metadata": {},
   "outputs": [],
   "source": [
    "predictions = pd.DataFrame(predictions_svc, columns = ['prediction'])"
   ]
  },
  {
   "cell_type": "code",
   "execution_count": 126,
   "id": "6e6fc907",
   "metadata": {},
   "outputs": [
    {
     "name": "stdout",
     "output_type": "stream",
     "text": [
      "              precision    recall  f1-score   support\n",
      "\n",
      "           0       0.69      0.70      0.69       180\n",
      "           1       0.70      0.69      0.70       184\n",
      "\n",
      "    accuracy                           0.70       364\n",
      "   macro avg       0.70      0.70      0.70       364\n",
      "weighted avg       0.70      0.70      0.70       364\n",
      "\n"
     ]
    }
   ],
   "source": [
    "print(classification_report(y_test, predictions_svc))"
   ]
  },
  {
   "cell_type": "code",
   "execution_count": null,
   "id": "eab29e6c",
   "metadata": {},
   "outputs": [],
   "source": []
  }
 ],
 "metadata": {
  "kernelspec": {
   "display_name": "Python 3 (ipykernel)",
   "language": "python",
   "name": "python3"
  },
  "language_info": {
   "codemirror_mode": {
    "name": "ipython",
    "version": 3
   },
   "file_extension": ".py",
   "mimetype": "text/x-python",
   "name": "python",
   "nbconvert_exporter": "python",
   "pygments_lexer": "ipython3",
   "version": "3.9.13"
  }
 },
 "nbformat": 4,
 "nbformat_minor": 5
}
